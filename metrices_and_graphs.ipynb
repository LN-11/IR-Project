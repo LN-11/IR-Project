{
  "nbformat": 4,
  "nbformat_minor": 0,
  "metadata": {
    "colab": {
      "provenance": []
    },
    "kernelspec": {
      "name": "python3",
      "display_name": "Python 3"
    },
    "language_info": {
      "name": "python"
    }
  },
  "cells": [
    {
      "cell_type": "code",
      "source": [
        "# download nltk stopwords\n",
        "import nltk\n",
        "nltk.download('stopwords')"
      ],
      "metadata": {
        "id": "bCPDHP7zTQJZ",
        "colab": {
          "base_uri": "https://localhost:8080/"
        },
        "outputId": "a904ffaf-a1da-47ba-926e-700467f387b7"
      },
      "execution_count": 1,
      "outputs": [
        {
          "output_type": "stream",
          "name": "stderr",
          "text": [
            "[nltk_data] Downloading package stopwords to /root/nltk_data...\n",
            "[nltk_data]   Package stopwords is already up-to-date!\n"
          ]
        },
        {
          "output_type": "execute_result",
          "data": {
            "text/plain": [
              "True"
            ]
          },
          "metadata": {},
          "execution_count": 1
        }
      ]
    },
    {
      "cell_type": "code",
      "source": [
        "# Install a particular version of `google-cloud-storage` because (oddly enough) \n",
        "# the  version on Colab and GCP is old. A dependency error below is okay.\n",
        "!pip install -q google-cloud-storage==1.43.0"
      ],
      "metadata": {
        "id": "lAt6KT8xOgHH"
      },
      "execution_count": 2,
      "outputs": []
    },
    {
      "cell_type": "code",
      "source": [
        "# authenticate below for Google Storage access as needed\n",
        "from google.colab import auth\n",
        "auth.authenticate_user()"
      ],
      "metadata": {
        "id": "-oKFly5jFLFn"
      },
      "execution_count": 3,
      "outputs": []
    },
    {
      "cell_type": "code",
      "source": [
        "# install ngrok to emulate public IP / address\n",
        "!wget -N https://bin.equinox.io/c/4VmDzA7iaHb/ngrok-stable-linux-amd64.zip -O ngrok-stable-linux-amd64.zip\n",
        "!unzip -u ngrok-stable-linux-amd64.zip"
      ],
      "metadata": {
        "id": "FrBdFNYgiyab",
        "colab": {
          "base_uri": "https://localhost:8080/"
        },
        "outputId": "8fe0d765-d880-4a34-a3c7-8f5c10b4e474"
      },
      "execution_count": 4,
      "outputs": [
        {
          "output_type": "stream",
          "name": "stdout",
          "text": [
            "WARNING: timestamping does nothing in combination with -O. See the manual\n",
            "for details.\n",
            "\n",
            "--2023-01-17 17:18:24--  https://bin.equinox.io/c/4VmDzA7iaHb/ngrok-stable-linux-amd64.zip\n",
            "Resolving bin.equinox.io (bin.equinox.io)... 54.237.133.81, 18.205.222.128, 54.161.241.46, ...\n",
            "Connecting to bin.equinox.io (bin.equinox.io)|54.237.133.81|:443... connected.\n",
            "HTTP request sent, awaiting response... 200 OK\n",
            "Length: 13832437 (13M) [application/octet-stream]\n",
            "Saving to: ‘ngrok-stable-linux-amd64.zip’\n",
            "\n",
            "ngrok-stable-linux- 100%[===================>]  13.19M  8.61MB/s    in 1.5s    \n",
            "\n",
            "2023-01-17 17:18:25 (8.61 MB/s) - ‘ngrok-stable-linux-amd64.zip’ saved [13832437/13832437]\n",
            "\n",
            "Archive:  ngrok-stable-linux-amd64.zip\n"
          ]
        }
      ]
    },
    {
      "cell_type": "code",
      "source": [
        "# TODO: sign up for an ngrok account\n",
        "# then put your ngrok token below, uncomment, and execute\n",
        "!./ngrok authtoken 22KeqcMQYpd2iRnsaZZOzlyaNw0_5NAk69pXRUMvfrf1oCNpU"
      ],
      "metadata": {
        "id": "xA-_dKEZbsXW",
        "colab": {
          "base_uri": "https://localhost:8080/"
        },
        "outputId": "daf85591-70f9-4025-b9bf-7d47d6535c2e"
      },
      "execution_count": 5,
      "outputs": [
        {
          "output_type": "stream",
          "name": "stdout",
          "text": [
            "Authtoken saved to configuration file: /root/.ngrok2/ngrok.yml\n"
          ]
        }
      ]
    },
    {
      "cell_type": "code",
      "execution_count": 6,
      "metadata": {
        "id": "nXn5PlyGORQr"
      },
      "outputs": [],
      "source": [
        "# install a ngrok python package and a version of flask that works with it in \n",
        "# colab\n",
        "!pip -q install flask-ngrok\n",
        "!pip -q install flask==0.12.2\n",
        "# !pip -q install flask_restful"
      ]
    },
    {
      "cell_type": "markdown",
      "source": [
        "# Run the app"
      ],
      "metadata": {
        "id": "6dW0y91OVu5J"
      }
    },
    {
      "cell_type": "code",
      "source": [
        "# you need to upload your implementation of search_app.py\n",
        "import search_frontend as se"
      ],
      "metadata": {
        "id": "7opNkV6uRHIv"
      },
      "execution_count": null,
      "outputs": []
    },
    {
      "cell_type": "code",
      "source": [
        "# uncomment the code below and execute to reload the module when you make \n",
        "# changes to search_frontend.py (after you upload again).\n",
        "# import importlib\n",
        "# importlib.reload(se)"
      ],
      "metadata": {
        "id": "oTGXXYEXV5l8"
      },
      "execution_count": null,
      "outputs": []
    },
    {
      "cell_type": "code",
      "source": [
        "from flask_ngrok import run_with_ngrok\n",
        "run_with_ngrok(se.app) \n",
        "se.app.run()"
      ],
      "metadata": {
        "id": "J5n9u9rFP_wD",
        "colab": {
          "base_uri": "https://localhost:8080/"
        },
        "outputId": "1fa290ab-72a6-4262-cb71-9316490b3c69"
      },
      "execution_count": null,
      "outputs": [
        {
          "output_type": "stream",
          "name": "stderr",
          "text": [
            " * Running on http://127.0.0.1:5000/ (Press CTRL+C to quit)\n"
          ]
        },
        {
          "output_type": "stream",
          "name": "stdout",
          "text": [
            " * Running on http://c271-34-125-136-123.ngrok.io\n",
            " * Traffic stats available on http://127.0.0.1:4040\n"
          ]
        },
        {
          "output_type": "stream",
          "name": "stderr",
          "text": [
            "127.0.0.1 - - [04/Jan/2022 08:48:13] \"\u001b[37mGET /search?query=hello HTTP/1.1\u001b[0m\" 200 -\n",
            "127.0.0.1 - - [04/Jan/2022 08:48:13] \"\u001b[33mGET /favicon.ico HTTP/1.1\u001b[0m\" 404 -\n",
            "127.0.0.1 - - [04/Jan/2022 08:49:10] \"\u001b[37mGET /search_body?query=hello HTTP/1.1\u001b[0m\" 200 -\n",
            "127.0.0.1 - - [04/Jan/2022 08:49:10] \"\u001b[33mGET /favicon.ico HTTP/1.1\u001b[0m\" 404 -\n"
          ]
        }
      ]
    },
    {
      "cell_type": "markdown",
      "source": [
        "# Testing your app\n",
        "\n",
        "Once your app is running you can query it. You can simply do that by navigating to the URL that ngrok gave you above or through code in a different python session. For example, once the frontend app is running, you can navigate to:\n",
        "http://YOUR_SERVER_DOMAIN/search?query=hello+world where YOUR_SERVER_DOMAIN is something like XXXX-XX-XX-XX-XX.ngrok.io, which is printed above in Colab or that is your external IP on GCP.\n",
        "\n",
        "The code below shows how to issue a query from python. This is also how our testing code will issue queries to your search engine, so make sure to test your search engine this way after you deploy it to GCP and before submission. Command line instructions for deploying your search engine to GCP are available at `run_frontend_in_gcp.sh`. Note that we will not only issue training queries to your search engine, but also test queries, i.e. queries that you've never seen before."
      ],
      "metadata": {
        "id": "Na0MC_1nzDbi"
      }
    },
    {
      "cell_type": "code",
      "source": [
        "import json\n",
        "\n",
        "with open('queries_train.json', 'rt') as f:\n",
        "  queries = json.load(f)"
      ],
      "metadata": {
        "id": "EM5ePrRHojbG"
      },
      "execution_count": 11,
      "outputs": []
    },
    {
      "cell_type": "code",
      "source": [
        "def average_precision(true_list, predicted_list, k=40):\n",
        "    true_set = frozenset(true_list)\n",
        "    predicted_list = predicted_list[:k]\n",
        "    precisions = []\n",
        "    for i,doc_id in enumerate(predicted_list):        \n",
        "        if doc_id in true_set:\n",
        "            prec = (len(precisions)+1) / (i+1)            \n",
        "            precisions.append(prec)\n",
        "    if len(precisions) == 0:\n",
        "        return 0.0\n",
        "    return round(sum(precisions)/len(precisions),3)"
      ],
      "metadata": {
        "id": "gWimZWCOy3Ei"
      },
      "execution_count": 12,
      "outputs": []
    },
    {
      "cell_type": "code",
      "source": [
        "import requests\n",
        "from time import time\n",
        "url = 'http://34.28.208.52:8080/'\n",
        "# place the domain you got from ngrok or GCP IP below. \n",
        "#url = 'http://XXXX-XX-XX-XX-XX.ngrok.io'\n",
        "\n",
        "qs_res = []\n",
        "for q, true_wids in queries.items():\n",
        "  duration, ap = None, None\n",
        "  t_start = time()\n",
        "  try:\n",
        "    res = requests.get(url + '/search', {'query': q}, timeout=35)\n",
        "    duration = time() - t_start\n",
        "    if res.status_code == 200:\n",
        "      pred_wids, _ = zip(*res.json())\n",
        "      ap = average_precision(true_wids, pred_wids)\n",
        "      print(q)\n",
        "      print(ap)\n",
        "  except:\n",
        "    pass\n",
        "  \n",
        "  qs_res.append((q, duration, ap))"
      ],
      "metadata": {
        "id": "dYmNTq9u0ChK",
        "colab": {
          "base_uri": "https://localhost:8080/"
        },
        "outputId": "97b0d6f5-ac08-4293-bb3a-884f895177ba"
      },
      "execution_count": 57,
      "outputs": [
        {
          "output_type": "stream",
          "name": "stdout",
          "text": [
            "best marvel movie\n",
            "0.639\n",
            "How do kids come to world?\n",
            "0.0\n",
            "Information retrieval\n",
            "1.0\n",
            "LinkedIn\n",
            "1.0\n",
            "How to make coffee?\n",
            "0.5\n",
            "Ritalin\n",
            "0.804\n",
            "How to make wine at home?\n",
            "0.478\n",
            "Most expensive city in the world\n",
            "1.0\n",
            "India\n",
            "1.0\n",
            "how to make money fast?\n",
            "1.0\n",
            "Netflix\n",
            "1.0\n",
            "Apple computer\n",
            "1.0\n",
            "The Simpsons\n",
            "0.804\n",
            "World cup\n",
            "0.833\n",
            "How to lose weight?\n",
            "0.417\n",
            "Java\n",
            "1.0\n",
            "Air Jordan\n",
            "0.7\n",
            "how to deal with depression?\n",
            "0.367\n",
            "How do you make gold\n",
            "0.583\n",
            "Marijuana\n",
            "0.333\n",
            "How to make hummus\n",
            "0.679\n",
            "Winter\n",
            "0.333\n",
            "Rick and Morty\n",
            "1.0\n",
            "Natural Language processing\n",
            "0.583\n",
            "World Cup 2022\n",
            "0.5\n",
            "Dolly the sheep\n",
            "0.75\n",
            "What is the best place to live in?\n",
            "0.0\n",
            "Elon musk\n",
            "1.0\n",
            "How do you breed flowers?\n",
            "0.833\n"
          ]
        }
      ]
    },
    {
      "cell_type": "code",
      "source": [
        "prescsion_list = [x[2] for x in qs_res]\n",
        "prescsion_list = list(filter(lambda x: x != None, prescsion_list))\n",
        "map40_s = sum(prescsion_list)/len(qs_res)\n",
        "print(map40_s)\n",
        "duration1 = durationprescsion_list = [x[1] for x in qs_res]\n",
        "prescsion_list = list(filter(lambda x: x != None, prescsion_list))\n",
        "dur_s_tot = sum(duration1)\n",
        "print(dur_s_tot)\n",
        "dur_s_tot = dur_s_tot/30\n",
        "print(dur_s_tot)"
      ],
      "metadata": {
        "colab": {
          "base_uri": "https://localhost:8080/"
        },
        "id": "73kSqOopX3dr",
        "outputId": "1badeddf-e805-40e8-e804-240446f7a052"
      },
      "execution_count": 59,
      "outputs": [
        {
          "output_type": "stream",
          "name": "stdout",
          "text": [
            "0.6711999999999999\n",
            "21.278997659683228\n",
            "0.7092999219894409\n"
          ]
        }
      ]
    },
    {
      "cell_type": "code",
      "source": [
        "import requests\n",
        "from time import time\n",
        "url = 'http://34.28.208.52:8080/'\n",
        "# place the domain you got from ngrok or GCP IP below. \n",
        "#url = 'http://XXXX-XX-XX-XX-XX.ngrok.io'\n",
        "\n",
        "qs_res = []\n",
        "for q, true_wids in queries.items():\n",
        "  duration, ap = None, None\n",
        "  t_start = time()\n",
        "  try:\n",
        "    res = requests.get(url + '/search1', {'query': q}, timeout=35)\n",
        "    duration = time() - t_start\n",
        "    if res.status_code == 200:\n",
        "      pred_wids, _ = zip(*res.json())\n",
        "      ap = average_precision(true_wids, pred_wids)\n",
        "  except:\n",
        "    pass\n",
        "  \n",
        "  qs_res.append((q, duration, ap))"
      ],
      "metadata": {
        "id": "BRz5gH3lZznv"
      },
      "execution_count": 29,
      "outputs": []
    },
    {
      "cell_type": "code",
      "source": [
        "prescsion_list = [x[2] for x in qs_res]\n",
        "prescsion_list = list(filter(lambda x: x != None, prescsion_list))\n",
        "map40_s1 = sum(prescsion_list)/len(qs_res)\n",
        "print(map40_s1)\n",
        "duration2 = durationprescsion_list = [x[1] for x in qs_res]\n",
        "prescsion_list = list(filter(lambda x: x != None, prescsion_list))\n",
        "dur_s_tot = sum(duration2)\n",
        "print(dur_s_tot)\n",
        "dur_s_avg1 = dur_s_tot/30\n",
        "print(dur_s_avg1)"
      ],
      "metadata": {
        "colab": {
          "base_uri": "https://localhost:8080/"
        },
        "id": "CURylVjAaBMF",
        "outputId": "8b7e1cd7-d58a-4a97-a84f-e9e29ac22d21"
      },
      "execution_count": 30,
      "outputs": [
        {
          "output_type": "stream",
          "name": "stdout",
          "text": [
            "0.4587000000000001\n",
            "20.91480779647827\n",
            "0.6971602598826091\n"
          ]
        }
      ]
    },
    {
      "cell_type": "code",
      "source": [
        "import requests\n",
        "from time import time\n",
        "url = 'http://34.28.208.52:8080/'\n",
        "# place the domain you got from ngrok or GCP IP below. \n",
        "#url = 'http://XXXX-XX-XX-XX-XX.ngrok.io'\n",
        "\n",
        "qs_res = []\n",
        "for q, true_wids in queries.items():\n",
        "  duration, ap = None, None\n",
        "  t_start = time()\n",
        "  try:\n",
        "    res = requests.get(url + '/search2', {'query': q}, timeout=35)\n",
        "    duration = time() - t_start\n",
        "    if res.status_code == 200:\n",
        "      pred_wids, _ = zip(*res.json())\n",
        "      ap = average_precision(true_wids, pred_wids)\n",
        "  except:\n",
        "    pass\n",
        "  \n",
        "  qs_res.append((q, duration, ap))"
      ],
      "metadata": {
        "id": "hjW_Dkl5cZa0"
      },
      "execution_count": 31,
      "outputs": []
    },
    {
      "cell_type": "code",
      "source": [
        "prescsion_list = [x[2] for x in qs_res]\n",
        "prescsion_list = list(filter(lambda x: x != None, prescsion_list))\n",
        "map40_s2 = sum(prescsion_list)/len(qs_res)\n",
        "print(map40_s2)\n",
        "duration3 = durationprescsion_list = [x[1] for x in qs_res]\n",
        "prescsion_list = list(filter(lambda x: x != None, prescsion_list))\n",
        "dur_s_tot = sum(duration3)\n",
        "print(dur_s_tot)\n",
        "dur_s_avg2 = dur_s_tot/30\n",
        "print(dur_s_avg2)"
      ],
      "metadata": {
        "colab": {
          "base_uri": "https://localhost:8080/"
        },
        "id": "ghICee3NceNH",
        "outputId": "6ffb2e18-fd72-4b3c-9524-84c340c89958"
      },
      "execution_count": 32,
      "outputs": [
        {
          "output_type": "stream",
          "name": "stdout",
          "text": [
            "0.4587000000000001\n",
            "18.638490200042725\n",
            "0.6212830066680908\n"
          ]
        }
      ]
    },
    {
      "cell_type": "code",
      "source": [
        "import requests\n",
        "from time import time\n",
        "url = 'http://34.28.208.52:8080/'\n",
        "# place the domain you got from ngrok or GCP IP below. \n",
        "#url = 'http://XXXX-XX-XX-XX-XX.ngrok.io'\n",
        "\n",
        "qs_res = []\n",
        "for q, true_wids in queries.items():\n",
        "  duration, ap = None, None\n",
        "  t_start = time()\n",
        "  try:\n",
        "    res = requests.get(url + '/search', {'query': q}, timeout=35)\n",
        "    duration = time() - t_start\n",
        "    if res.status_code == 200:\n",
        "      pred_wids, _ = zip(*res.json())\n",
        "      ap = average_precision(true_wids, pred_wids)\n",
        "  except:\n",
        "    pass\n",
        "  \n",
        "  qs_res.append((q, duration, ap))"
      ],
      "metadata": {
        "id": "Vkb9yua3cijY"
      },
      "execution_count": 39,
      "outputs": []
    },
    {
      "cell_type": "code",
      "source": [
        "prescsion_list = [x[2] for x in qs_res]\n",
        "prescsion_list = list(filter(lambda x: x != None, prescsion_list))\n",
        "map40_s3 = sum(prescsion_list)/len(qs_res)\n",
        "print(map40_s3)\n",
        "duration4 = durationprescsion_list = [x[1] for x in qs_res]\n",
        "prescsion_list = list(filter(lambda x: x != None, prescsion_list))\n",
        "dur_s_tot = sum(duration4)\n",
        "print(dur_s_tot)\n",
        "dur_s_avg3 = dur_s_tot/30\n",
        "print(dur_s_avg3)"
      ],
      "metadata": {
        "colab": {
          "base_uri": "https://localhost:8080/"
        },
        "id": "W0AyqZMCc0Ia",
        "outputId": "43d7ce1e-27fa-4613-892c-62f455d9b8c2"
      },
      "execution_count": 40,
      "outputs": [
        {
          "output_type": "stream",
          "name": "stdout",
          "text": [
            "0.46210000000000007\n",
            "17.99613046646118\n",
            "0.599871015548706\n"
          ]
        }
      ]
    },
    {
      "cell_type": "code",
      "source": [
        "from matplotlib import pyplot as plt\n",
        " \n",
        "# Read CSV into pandas\n",
        "search = [\"search1\",\"search2\",\"search3\"]\n",
        "search_map40 = [map40_s1,map40_s2,map40_s3]\n",
        "search_avg_time =  [dur_s_avg1,dur_s_avg2,dur_s_avg3]\n",
        " \n",
        "# Figure Size\n",
        "fig = plt.figure(figsize =(10, 7))\n",
        " \n",
        "# Horizontal Bar Plot\n",
        "plt.bar(search, search_map40)\n",
        " \n",
        "# Show Plot\n",
        "plt.show()"
      ],
      "metadata": {
        "colab": {
          "base_uri": "https://localhost:8080/",
          "height": 428
        },
        "id": "qpfBvBmUc56f",
        "outputId": "dcbbec4e-dc76-428e-b45e-45f41d6f0a94"
      },
      "execution_count": 35,
      "outputs": [
        {
          "output_type": "display_data",
          "data": {
            "text/plain": [
              "<Figure size 720x504 with 1 Axes>"
            ],
            "image/png": "[encoded data removed]"
          },
          "metadata": {
            "needs_background": "light"
          }
        }
      ]
    },
    {
      "cell_type": "code",
      "source": [
        "import numpy as np\n",
        "import matplotlib.pyplot as plt\n",
        " \n",
        "# set width of bar\n",
        "barWidth = 0.25\n",
        "fig = plt.subplots(figsize =(12, 8))\n",
        " \n",
        "# set height of bar\n",
        "search = [\"search1\",\"search2\",\"search3\"]\n",
        "search_map40 = [map40_s1,map40_s2,map40_s3]\n",
        "search_avg_time =  [dur_s_avg1,dur_s_avg2,dur_s_avg3]\n",
        " \n",
        "# Set position of bar on X axis\n",
        "br1 = np.arange(len(search_map40 ))\n",
        "br2 = [x + barWidth for x in br1]\n",
        " \n",
        "# Make the plot\n",
        "plt.bar(br1, search_map40, color ='r', width = barWidth,\n",
        "        edgecolor ='grey', label ='MAP@40')\n",
        "plt.bar(br2, search_avg_time, color ='g', width = barWidth,\n",
        "        edgecolor ='grey', label ='AVG_TIME')\n",
        " \n",
        "# Adding Xticks\n",
        "plt.xlabel('Search_gen', fontweight ='bold', fontsize = 15)\n",
        "plt.ylabel('Res', fontweight ='bold', fontsize = 15)\n",
        "plt.xticks([r + barWidth for r in range(len(search_map40))],\n",
        "        [\"best_gen2\",\"best_gen3\",\"Final_search\",])\n",
        " \n",
        "plt.legend()\n",
        "plt.show()"
      ],
      "metadata": {
        "colab": {
          "base_uri": "https://localhost:8080/",
          "height": 504
        },
        "id": "HRoDosKkdckL",
        "outputId": "a46a88e9-c37c-48d9-dbdf-a4773772b5bf"
      },
      "execution_count": 41,
      "outputs": [
        {
          "output_type": "display_data",
          "data": {
            "text/plain": [
              "<Figure size 864x576 with 1 Axes>"
            ],
            "image/png": "[encoded data removed]"
          },
          "metadata": {
            "needs_background": "light"
          }
        }
      ]
    },
    {
      "cell_type": "code",
      "source": [
        "import requests\n",
        "from time import time\n",
        "url = 'http://34.28.208.52:8080/'\n",
        "# place the domain you got from ngrok or GCP IP below. \n",
        "#url = 'http://XXXX-XX-XX-XX-XX.ngrok.io'\n",
        "\n",
        "qs_res = []\n",
        "for q, true_wids in queries.items():\n",
        "  duration, ap = None, None\n",
        "  t_start = time()\n",
        "  try:\n",
        "    res = requests.get(url + '/search4', {'query': q}, timeout=35)\n",
        "    duration = time() - t_start\n",
        "    if res.status_code == 200:\n",
        "      pred_wids, _ = zip(*res.json())\n",
        "      ap = average_precision(true_wids, pred_wids)\n",
        "  except:\n",
        "    pass\n",
        "  \n",
        "  qs_res.append((q, duration, ap))\n",
        "\n",
        "prescsion_list = [x[2] for x in qs_res]\n",
        "prescsion_list = list(filter(lambda x: x != None, prescsion_list))\n",
        "map40_s4 = sum(prescsion_list)/len(qs_res)\n",
        "print(map40_s4)\n",
        "duration4 = durationprescsion_list = [x[1] for x in qs_res]\n",
        "prescsion_list = list(filter(lambda x: x != None, prescsion_list))\n",
        "dur_s_tot = sum(duration4)\n",
        "print(dur_s_tot)\n",
        "dur_s_avg4 = dur_s_tot/30\n",
        "print(dur_s_avg4)"
      ],
      "metadata": {
        "colab": {
          "base_uri": "https://localhost:8080/"
        },
        "id": "IH9JiIkreuJe",
        "outputId": "c744d0e7-9b0b-4072-fbc2-01822c3038f7"
      },
      "execution_count": 24,
      "outputs": [
        {
          "output_type": "stream",
          "name": "stdout",
          "text": [
            "0.4587000000000001\n",
            "20.53291368484497\n",
            "0.684430456161499\n"
          ]
        }
      ]
    },
    {
      "cell_type": "code",
      "source": [
        "import requests\n",
        "from time import time\n",
        "url = 'http://34.28.208.52:8080/'\n",
        "# place the domain you got from ngrok or GCP IP below. \n",
        "#url = 'http://XXXX-XX-XX-XX-XX.ngrok.io'\n",
        "\n",
        "qs_res = []\n",
        "for q, true_wids in queries.items():\n",
        "  duration, ap = None, None\n",
        "  t_start = time()\n",
        "  try:\n",
        "    res = requests.get(url + '/search5', {'query': q}, timeout=35)\n",
        "    duration = time() - t_start\n",
        "    if res.status_code == 200:\n",
        "      pred_wids, _ = zip(*res.json())\n",
        "      ap = average_precision(true_wids, pred_wids)\n",
        "  except:\n",
        "    pass\n",
        "  \n",
        "  qs_res.append((q, duration, ap))\n",
        "\n",
        "prescsion_list = [x[2] for x in qs_res]\n",
        "prescsion_list = list(filter(lambda x: x != None, prescsion_list))\n",
        "map40_s5 = sum(prescsion_list)/len(qs_res)\n",
        "print(map40_s5)\n",
        "duration5 = durationprescsion_list = [x[1] for x in qs_res]\n",
        "prescsion_list = list(filter(lambda x: x != None, prescsion_list))\n",
        "dur_s_tot = sum(duration5)\n",
        "print(dur_s_tot)\n",
        "dur_s_avg5 = dur_s_tot/30\n",
        "print(dur_s_avg5)"
      ],
      "metadata": {
        "colab": {
          "base_uri": "https://localhost:8080/"
        },
        "id": "zuzOy816TZTK",
        "outputId": "7d4d9509-f617-4fed-ed2d-a8035b3a2d29"
      },
      "execution_count": 25,
      "outputs": [
        {
          "output_type": "stream",
          "name": "stdout",
          "text": [
            "0.4584666666666667\n",
            "18.229984760284424\n",
            "0.6076661586761475\n"
          ]
        }
      ]
    },
    {
      "cell_type": "code",
      "source": [
        "import requests\n",
        "from time import time\n",
        "url = 'http://34.28.208.52:8080/'\n",
        "# place the domain you got from ngrok or GCP IP below. \n",
        "#url = 'http://XXXX-XX-XX-XX-XX.ngrok.io'\n",
        "\n",
        "qs_res = []\n",
        "for q, true_wids in queries.items():\n",
        "  duration, ap = None, None\n",
        "  t_start = time()\n",
        "  try:\n",
        "    res = requests.get(url + '/search6', {'query': q}, timeout=35)\n",
        "    duration = time() - t_start\n",
        "    if res.status_code == 200:\n",
        "      pred_wids, _ = zip(*res.json())\n",
        "      ap = average_precision(true_wids, pred_wids)\n",
        "  except:\n",
        "    pass\n",
        "  \n",
        "  qs_res.append((q, duration, ap))\n",
        "\n",
        "prescsion_list = [x[2] for x in qs_res]\n",
        "prescsion_list = list(filter(lambda x: x != None, prescsion_list))\n",
        "map40_s6 = sum(prescsion_list)/len(qs_res)\n",
        "print(map40_s6)\n",
        "duration6 = durationprescsion_list = [x[1] for x in qs_res]\n",
        "prescsion_list = list(filter(lambda x: x != None, prescsion_list))\n",
        "dur_s_tot = sum(duration2)\n",
        "print(dur_s_tot)\n",
        "dur_s_avg6 = dur_s_tot/30\n",
        "print(dur_s_avg5)"
      ],
      "metadata": {
        "colab": {
          "base_uri": "https://localhost:8080/"
        },
        "id": "p5_10xPTTZvv",
        "outputId": "336da23f-53e5-4a54-c684-5d7876b91ba0"
      },
      "execution_count": 26,
      "outputs": [
        {
          "output_type": "stream",
          "name": "stdout",
          "text": [
            "0.45803333333333346\n",
            "21.34709358215332\n",
            "0.6076661586761475\n"
          ]
        }
      ]
    },
    {
      "cell_type": "code",
      "source": [
        "import requests\n",
        "from time import time\n",
        "url = 'http://34.28.208.52:8080/'\n",
        "# place the domain you got from ngrok or GCP IP below. \n",
        "#url = 'http://XXXX-XX-XX-XX-XX.ngrok.io'\n",
        "\n",
        "qs_res = []\n",
        "for q, true_wids in queries.items():\n",
        "  duration, ap = None, None\n",
        "  t_start = time()\n",
        "  try:\n",
        "    res = requests.get(url + '/search7', {'query': q}, timeout=35)\n",
        "    duration = time() - t_start\n",
        "    if res.status_code == 200:\n",
        "      pred_wids, _ = zip(*res.json())\n",
        "      ap = average_precision(true_wids, pred_wids)\n",
        "  except:\n",
        "    pass\n",
        "  \n",
        "  qs_res.append((q, duration, ap))\n",
        "\n",
        "prescsion_list = [x[2] for x in qs_res]\n",
        "prescsion_list = list(filter(lambda x: x != None, prescsion_list))\n",
        "map40_s7 = sum(prescsion_list)/len(qs_res)\n",
        "print(map40_s7)\n",
        "duration7 = durationprescsion_list = [x[1] for x in qs_res]\n",
        "prescsion_list = list(filter(lambda x: x != None, prescsion_list))\n",
        "dur_s_tot = sum(duration7)\n",
        "print(dur_s_tot)\n",
        "dur_s_avg7 = dur_s_tot/30\n",
        "print(dur_s_avg7)"
      ],
      "metadata": {
        "colab": {
          "base_uri": "https://localhost:8080/"
        },
        "id": "MKaGJsiWTaEs",
        "outputId": "639cfbfe-93d4-49b8-f68f-3b23d8e5e447"
      },
      "execution_count": 27,
      "outputs": [
        {
          "output_type": "stream",
          "name": "stdout",
          "text": [
            "0.4580000000000001\n",
            "17.402526140213013\n",
            "0.5800842046737671\n"
          ]
        }
      ]
    },
    {
      "cell_type": "code",
      "source": [
        "import numpy as np\n",
        "import matplotlib.pyplot as plt\n",
        " \n",
        "# set width of bar\n",
        "barWidth = 0.25\n",
        "fig = plt.subplots(figsize =(12, 8))\n",
        " \n",
        "# set height of bar\n",
        "search = [\"search4\",\"search5\",\"search6\",\"search7\"]\n",
        "search_map40 = [map40_s4,map40_s5,map40_s6,map40_s7]\n",
        "search_avg_time =  [dur_s_avg4,dur_s_avg5,dur_s_avg6,dur_s_avg7]\n",
        " \n",
        "# Set position of bar on X axis\n",
        "br1 = np.arange(len(search_map40 ))\n",
        "br2 = [x + barWidth for x in br1]\n",
        " \n",
        "# Make the plot\n",
        "plt.bar(br1, search_map40, color ='r', width = barWidth,\n",
        "        edgecolor ='grey', label ='MAP@40')\n",
        "plt.bar(br2, search_avg_time, color ='g', width = barWidth,\n",
        "        edgecolor ='grey', label ='AVG_TIME')\n",
        " \n",
        "# Adding Xticks\n",
        "plt.xlabel('Search_gen', fontweight ='bold', fontsize = 15)\n",
        "plt.ylabel('Res', fontweight ='bold', fontsize = 15)\n",
        "plt.xticks([r + barWidth for r in range(len(search_map40))],\n",
        "        [\"search4\",\"search5\",\"search6\",\"search7\"])\n",
        " \n",
        "plt.legend()\n",
        "plt.show()"
      ],
      "metadata": {
        "colab": {
          "base_uri": "https://localhost:8080/",
          "height": 503
        },
        "id": "wYulr4JqUHKa",
        "outputId": "5ccf1078-7029-477e-bb14-79f5dc96cf51"
      },
      "execution_count": 28,
      "outputs": [
        {
          "output_type": "display_data",
          "data": {
            "text/plain": [
              "<Figure size 864x576 with 1 Axes>"
            ],
            "image/png": "[encoded data removed]"
          },
          "metadata": {
            "needs_background": "light"
          }
        }
      ]
    },
    {
      "cell_type": "code",
      "source": [
        "import requests\n",
        "from time import time\n",
        "url = 'http://34.28.208.52:8080/'\n",
        "# place the domain you got from ngrok or GCP IP below. \n",
        "#url = 'http://XXXX-XX-XX-XX-XX.ngrok.io'\n",
        "\n",
        "map40=list()\n",
        "dur_tot=list()\n",
        "dur_avg=list()\n",
        "for i in range(7):\n",
        "  qs_res = []\n",
        "  for q, true_wids in queries.items():\n",
        "    duration, ap = None, None\n",
        "    t_start = time()\n",
        "    try:\n",
        "      res = requests.get(url + f'/search{i}', {'query': q}, timeout=35)\n",
        "      duration = time() - t_start\n",
        "      if res.status_code == 200:\n",
        "        pred_wids, _ = zip(*res.json())\n",
        "        ap = average_precision(true_wids, pred_wids)\n",
        "    except:\n",
        "      pass\n",
        "    \n",
        "    qs_res.append((q, duration, ap))\n",
        "\n",
        "  prescsion_list = [x[2] for x in qs_res]\n",
        "  prescsion_list = list(filter(lambda x: x != None, prescsion_list))\n",
        "  map40_s = sum(prescsion_list)/len(qs_res)\n",
        "  map40.append(map40_s)\n",
        "  duration1 = durationprescsion_list = [x[1] for x in qs_res]\n",
        "  prescsion_list = list(filter(lambda x: x != None, prescsion_list))\n",
        "  dur_s_tot = sum(duration1)\n",
        "  dur_tot.append(dur_s_tot)\n",
        "  dur_s_avg1 = dur_s_tot/30\n",
        "  dur_avg.append(dur_s_avg1)\n"
      ],
      "metadata": {
        "id": "xYHpTpqHV7Cj"
      },
      "execution_count": 45,
      "outputs": []
    },
    {
      "cell_type": "code",
      "source": [
        " dur_tot"
      ],
      "metadata": {
        "colab": {
          "base_uri": "https://localhost:8080/"
        },
        "id": "vDuzXhividH8",
        "outputId": "61a3dc35-5d87-40cb-a2f1-91784b88cc2a"
      },
      "execution_count": 50,
      "outputs": [
        {
          "output_type": "execute_result",
          "data": {
            "text/plain": [
              "[19.219874143600464,\n",
              " 17.944647550582886,\n",
              " 17.744429111480713,\n",
              " 17.295845985412598,\n",
              " 17.200169801712036,\n",
              " 16.865697622299194,\n",
              " 16.34926962852478]"
            ]
          },
          "metadata": {},
          "execution_count": 50
        }
      ]
    },
    {
      "cell_type": "code",
      "source": [
        "import numpy as np\n",
        "import matplotlib.pyplot as plt\n",
        " \n",
        "# set width of bar\n",
        "barWidth = 0.25\n",
        "fig = plt.subplots(figsize =(12, 8))\n",
        " \n",
        "# set height of bar\n",
        "search = [\"search0\",\"search1\",\"search2\",\"search3\",\"search4\",\"search5\",\"search6\",\"search7\"]\n",
        "search_map40 = map40\n",
        "search_avg_time = dur_avg\n",
        " \n",
        "# Set position of bar on X axis\n",
        "br1 = np.arange(len(search_map40 ))\n",
        "br2 = [x + barWidth for x in br1]\n",
        " \n",
        "# Make the plot\n",
        "plt.bar(br1, search_map40, color ='r', width = barWidth,\n",
        "        edgecolor ='grey', label ='MAP@40')\n",
        "plt.bar(br2, search_avg_time, color ='g', width = barWidth,\n",
        "        edgecolor ='grey', label ='AVG_TIME')\n",
        " \n",
        "# Adding Xticks\n",
        "plt.xlabel('Search_gen', fontweight ='bold', fontsize = 15)\n",
        "plt.ylabel('Res', fontweight ='bold', fontsize = 15)\n",
        "plt.xticks([r + barWidth for r in range(len(search_map40))],\n",
        "        [\"search0\",\"search1\",\"search2\",\"search3\",\"search4\",\"search5\",\"search6\",\"search7\"])\n",
        " \n",
        "plt.legend()\n",
        "plt.show()"
      ],
      "metadata": {
        "colab": {
          "base_uri": "https://localhost:8080/",
          "height": 504
        },
        "id": "daCH4Y6BkF3D",
        "outputId": "6a0f3c1b-9964-421d-989c-876d42e50d15"
      },
      "execution_count": 47,
      "outputs": [
        {
          "output_type": "display_data",
          "data": {
            "text/plain": [
              "<Figure size 864x576 with 1 Axes>"
            ],
            "image/png": "[encoded data removed]"
          },
          "metadata": {
            "needs_background": "light"
          }
        }
      ]
    },
    {
      "cell_type": "code",
      "source": [
        "#TESTS\n",
        "\n",
        "import requests\n",
        "res = requests.post('http://34.28.208.52:8080/get_pageview', json=[35646178, 224785, 57374888, 267657])\n"
      ],
      "metadata": {
        "id": "-NO6nQQvkXyP"
      },
      "execution_count": 42,
      "outputs": []
    },
    {
      "cell_type": "code",
      "source": [
        "if res.status_code == 200:\n",
        "         suka = res.json()"
      ],
      "metadata": {
        "id": "--xLauXNxsHU"
      },
      "execution_count": 43,
      "outputs": []
    },
    {
      "cell_type": "code",
      "source": [
        "suka"
      ],
      "metadata": {
        "colab": {
          "base_uri": "https://localhost:8080/"
        },
        "id": "tm_ozVrmx5fk",
        "outputId": "da222f01-aa89-42fc-9d22-62cbee62f80d"
      },
      "execution_count": 44,
      "outputs": [
        {
          "output_type": "execute_result",
          "data": {
            "text/plain": [
              "[638, 13014, 219, 39332]"
            ]
          },
          "metadata": {},
          "execution_count": 44
        }
      ]
    },
    {
      "cell_type": "code",
      "source": [],
      "metadata": {
        "id": "Nwx3gR8Qx7Fd"
      },
      "execution_count": 41,
      "outputs": []
    },
    {
      "cell_type": "code",
      "source": [],
      "metadata": {
        "id": "IEEhe8TNyF8A"
      },
      "execution_count": null,
      "outputs": []
    }
  ]
}